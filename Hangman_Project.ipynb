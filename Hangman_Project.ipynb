{
  "nbformat": 4,
  "nbformat_minor": 0,
  "metadata": {
    "colab": {
      "provenance": [],
      "authorship_tag": "ABX9TyMNdAtkB6khMYHsNsfdyZUr",
      "include_colab_link": true
    },
    "kernelspec": {
      "name": "python3",
      "display_name": "Python 3"
    },
    "language_info": {
      "name": "python"
    }
  },
  "cells": [
    {
      "cell_type": "markdown",
      "metadata": {
        "id": "view-in-github",
        "colab_type": "text"
      },
      "source": [
        "<a href=\"https://colab.research.google.com/github/ridafatima05/Hangman_Python_Project/blob/main/Hangman_Project.ipynb\" target=\"_parent\"><img src=\"https://colab.research.google.com/assets/colab-badge.svg\" alt=\"Open In Colab\"/></a>"
      ]
    },
    {
      "cell_type": "markdown",
      "source": [
        "#**Hangman Python Project**"
      ],
      "metadata": {
        "id": "azcGlNyXbgEt"
      }
    },
    {
      "cell_type": "code",
      "execution_count": 7,
      "metadata": {
        "colab": {
          "base_uri": "https://localhost:8080/"
        },
        "id": "v3_tWQHURPlP",
        "outputId": "2c38bcc7-e0a4-40dc-ac2c-e6cb8c1807f1"
      },
      "outputs": [
        {
          "output_type": "stream",
          "name": "stdout",
          "text": [
            "🎉 Welcome to the Hangman Game! 🎮\n",
            "The word has 9 letters: _ _ _ _ _ _ _ _ _ \n",
            "\n",
            "Attempt 1 of 6: 🔤 Guess a letter: k\n",
            "❌ Wrong guess!\n",
            "\n",
            "_ _ _ _ _ _ _ _ _\n",
            "Lives remaining: 5 💀\n",
            "\n",
            "Attempt 2 of 6: 🔤 Guess a letter: p\n",
            "❌ Wrong guess!\n",
            "\n",
            "_ _ _ _ _ _ _ _ _\n",
            "Lives remaining: 4 💀\n",
            "\n",
            "Attempt 3 of 6: 🔤 Guess a letter: d\n",
            "✅ Good guess!\n",
            "\n",
            "d _ _ _ _ _ _ _ _\n",
            "Lives remaining: 4 💀\n",
            "\n",
            "Attempt 3 of 6: 🔤 Guess a letter: i\n",
            "✅ Good guess!\n",
            "\n",
            "d i _ _ i _ _ _ _\n",
            "Lives remaining: 4 💀\n",
            "\n",
            "Attempt 3 of 6: 🔤 Guess a letter: f\n",
            "✅ Good guess!\n",
            "\n",
            "d i f f i _ _ _ _\n",
            "Lives remaining: 4 💀\n",
            "\n",
            "Attempt 3 of 6: 🔤 Guess a letter: c\n",
            "✅ Good guess!\n",
            "\n",
            "d i f f i c _ _ _\n",
            "Lives remaining: 4 💀\n",
            "\n",
            "Attempt 3 of 6: 🔤 Guess a letter: u\n",
            "✅ Good guess!\n",
            "\n",
            "d i f f i c u _ _\n",
            "Lives remaining: 4 💀\n",
            "\n",
            "Attempt 3 of 6: 🔤 Guess a letter: l\n",
            "✅ Good guess!\n",
            "\n",
            "d i f f i c u l _\n",
            "Lives remaining: 4 💀\n",
            "\n",
            "Attempt 3 of 6: 🔤 Guess a letter: t\n",
            "✅ Good guess!\n",
            "\n",
            "d i f f i c u l t\n",
            "Lives remaining: 4 💀\n",
            "\n",
            "🎉 Congratulations! You guessed the word: **difficult**\n",
            "\n",
            " Build with love by Rida Fatima <3\n"
          ]
        }
      ],
      "source": [
        "#Project 5\n",
        "#Hangman Python Project by Rida Fatima\n",
        "import random\n",
        "\n",
        "# List of words for the game\n",
        "words = ['knowledge', 'rhythm', 'awkward', 'pneumonia', 'difficult']\n",
        "\n",
        "# Choose a random word\n",
        "word = random.choice(words)\n",
        "guessed_letters = []\n",
        "attempts = 6\n",
        "\n",
        "# Welcome message\n",
        "print(\"🎉 Welcome to the Hangman Game! 🎮\")\n",
        "print(f\"The word has {len(word)} letters: \" + \"_ \" * len(word))\n",
        "\n",
        "while attempts > 0:\n",
        "    # Show attempt count\n",
        "    print(f\"\\nAttempt {6 - attempts + 1} of 6: Guess a letter: \", end=\"\")\n",
        "    guess = input().lower()\n",
        "\n",
        "    # Validate input (only one letter and must be alphabetic)\n",
        "    if len(guess) != 1 or not guess.isalpha():  #isalpha use to check the condition is true or not\n",
        "        print(\"⚠ Invalid input! Please enter a **single letter**.\")\n",
        "        continue\n",
        "\n",
        "    # Check if the letter was already guessed\n",
        "    if guess in guessed_letters:\n",
        "        print(\"You already guessed this letter. Try a different one!\")\n",
        "        continue\n",
        "\n",
        "    # Add guess to guessed letters list\n",
        "    guessed_letters.append(guess)\n",
        "\n",
        "    # Check if the guess is correct\n",
        "    if guess in word:\n",
        "        print(\"✅ Good guess!\")\n",
        "    else:\n",
        "        print(\"❌ Wrong guess!\")\n",
        "        attempts -= 1\n",
        "\n",
        "    # Display current progress of the word\n",
        "    display_word = \" \".join([letter if letter in guessed_letters else \"_\" for letter in word])\n",
        "    print(\"\\n\" + display_word)\n",
        "    print(f\"Attempts remaining: {attempts}\")\n",
        "\n",
        "    # Check if the player has guessed the word\n",
        "    if \"_\" not in display_word:\n",
        "        print(f\"\\n🎉 Congratulations! You guessed the word: **{word}**\")\n",
        "        break\n",
        "else:\n",
        "    print(f\"\\n💀 Game Over! The correct word was: **{word}**.\")\n",
        "\n",
        "\n",
        "print(\"\\n Build with love by Rida Fatima <3\")"
      ]
    }
  ]
}